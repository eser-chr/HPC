{
 "cells": [
  {
   "cell_type": "code",
   "execution_count": 1,
   "metadata": {},
   "outputs": [],
   "source": [
    "import game\n",
    "import numpy as np"
   ]
  },
  {
   "cell_type": "code",
   "execution_count": 11,
   "metadata": {},
   "outputs": [
    {
     "name": "stdout",
     "output_type": "stream",
     "text": [
      "[0.2148603  0.95586526 0.38618284 0.6351646  0.18038507 0.80615926\n",
      " 0.5696319  0.5609616  0.00520651 0.08140273]\n",
      "2.51486 \n",
      "3.25587 \n",
      "2.68618 \n",
      "2.93516 \n",
      "2.48039 \n",
      "3.10616 \n",
      "2.86963 \n",
      "2.86096 \n",
      "2.30521 \n",
      "2.3814 \n"
     ]
    }
   ],
   "source": [
    "a= np.random.random(10).astype(np.float32)\n",
    "print(a)\n",
    "game.add_scalar(a, 2.3)\n"
   ]
  },
  {
   "cell_type": "code",
   "execution_count": 7,
   "metadata": {},
   "outputs": [],
   "source": [
    "a = np.random.random(10)"
   ]
  },
  {
   "cell_type": "code",
   "execution_count": 8,
   "metadata": {},
   "outputs": [
    {
     "data": {
      "text/plain": [
       "array([0.97751087, 0.13016474, 0.57724252, 0.87336709, 0.62842795,\n",
       "       0.70050848, 0.75888563, 0.78003575, 0.85947171, 0.54837418])"
      ]
     },
     "execution_count": 8,
     "metadata": {},
     "output_type": "execute_result"
    }
   ],
   "source": [
    "a"
   ]
  },
  {
   "cell_type": "code",
   "execution_count": null,
   "metadata": {},
   "outputs": [],
   "source": []
  }
 ],
 "metadata": {
  "kernelspec": {
   "display_name": "chris",
   "language": "python",
   "name": "python3"
  },
  "language_info": {
   "codemirror_mode": {
    "name": "ipython",
    "version": 3
   },
   "file_extension": ".py",
   "mimetype": "text/x-python",
   "name": "python",
   "nbconvert_exporter": "python",
   "pygments_lexer": "ipython3",
   "version": "3.11.8"
  }
 },
 "nbformat": 4,
 "nbformat_minor": 2
}
